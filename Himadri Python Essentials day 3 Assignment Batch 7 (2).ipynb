{
 "cells": [
  {
   "cell_type": "markdown",
   "metadata": {},
   "source": [
    "# Question 1 \n",
    "You all are Pilots, you want to land a plane safely, so altitude required for landing a plane is 1000ft, it it is less than tell pilot to land the plane, or it is more than that but less than 5000ft ask the pilot to “Bring down to 1000ft”, else if it more than 5000ft ask the pilot to “go around and try later."
   ]
  },
  {
   "cell_type": "code",
   "execution_count": 47,
   "metadata": {},
   "outputs": [
    {
     "name": "stdout",
     "output_type": "stream",
     "text": [
      "Enter any Number - 1000\n",
      "Safe to land\n"
     ]
    }
   ],
   "source": [
    "num = input(\"Enter any Number - \")\n",
    "\n",
    "num = int(num)\n",
    "\n",
    "if num <= 1000:\n",
    "    print(\"Safe to land\")\n",
    "    \n",
    "elif num <= 5000:\n",
    "    print(\"Bring down to 1000 ft\")\n",
    "    \n",
    "else:\n",
    "    print(\"Go around and try later\")"
   ]
  },
  {
   "cell_type": "code",
   "execution_count": 48,
   "metadata": {},
   "outputs": [
    {
     "name": "stdout",
     "output_type": "stream",
     "text": [
      "Enter any Number - 4500\n",
      "Bring down to 1000 ft\n"
     ]
    }
   ],
   "source": [
    "num = input(\"Enter any Number - \")\n",
    "\n",
    "num = int(num)\n",
    "\n",
    "if num <= 1000:\n",
    "    print(\"Safe to land\")\n",
    "    \n",
    "elif num <= 5000:\n",
    "    print(\"Bring down to 1000 ft\")\n",
    "    \n",
    "else:\n",
    "    print(\"Go around and try later\")"
   ]
  },
  {
   "cell_type": "code",
   "execution_count": 49,
   "metadata": {},
   "outputs": [
    {
     "name": "stdout",
     "output_type": "stream",
     "text": [
      "Enter any Number - 6500\n",
      "Go around and try later\n"
     ]
    }
   ],
   "source": [
    "num = input(\"Enter any Number - \")\n",
    "\n",
    "num = int(num)\n",
    "\n",
    "if num <= 1000:\n",
    "    print(\"Safe to land\")\n",
    "    \n",
    "elif num <= 5000:\n",
    "    print(\"Bring down to 1000 ft\")\n",
    "    \n",
    "else:\n",
    "    print(\"Go around and try later\")"
   ]
  },
  {
   "cell_type": "markdown",
   "metadata": {},
   "source": [
    "# Question 2\n",
    "Using for loop please print all the prime numbers between 1- 200 using FOR LOOP AND RANGE\n",
    "function."
   ]
  },
  {
   "cell_type": "code",
   "execution_count": 38,
   "metadata": {},
   "outputs": [
    {
     "name": "stdout",
     "output_type": "stream",
     "text": [
      "2\n",
      "3\n",
      "5\n",
      "7\n",
      "11\n",
      "13\n",
      "17\n",
      "19\n",
      "23\n",
      "29\n",
      "31\n",
      "37\n",
      "41\n",
      "43\n",
      "47\n",
      "53\n",
      "59\n",
      "61\n",
      "67\n",
      "71\n",
      "73\n",
      "79\n",
      "83\n",
      "89\n",
      "97\n",
      "101\n",
      "103\n",
      "107\n",
      "109\n",
      "113\n",
      "127\n",
      "131\n",
      "137\n",
      "139\n",
      "149\n",
      "151\n",
      "157\n",
      "163\n",
      "167\n",
      "173\n",
      "179\n",
      "181\n",
      "191\n",
      "193\n",
      "197\n",
      "199\n"
     ]
    }
   ],
   "source": [
    "start = 2\n",
    " \n",
    "end = 200\n",
    " \n",
    "  \n",
    " \n",
    "for i in range(start,end): \n",
    " \n",
    "    for j in range(2,i): \n",
    " \n",
    "        if(i % j==0): \n",
    " \n",
    "            break\n",
    " \n",
    "    else: \n",
    " \n",
    "        print(i)"
   ]
  }
 ],
 "metadata": {
  "kernelspec": {
   "display_name": "Python 3",
   "language": "python",
   "name": "python3"
  },
  "language_info": {
   "codemirror_mode": {
    "name": "ipython",
    "version": 3
   },
   "file_extension": ".py",
   "mimetype": "text/x-python",
   "name": "python",
   "nbconvert_exporter": "python",
   "pygments_lexer": "ipython3",
   "version": "3.8.3"
  }
 },
 "nbformat": 4,
 "nbformat_minor": 4
}
