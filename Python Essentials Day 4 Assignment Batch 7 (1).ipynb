{
 "cells": [
  {
   "cell_type": "markdown",
   "metadata": {
    "colab_type": "text",
    "id": "W7SDD8wHmwIA"
   },
   "source": [
    "# Python Essentials Day 4 Assignment\n",
    "Q.1   Print the first ArmStrong number in the range of 1042000 to 702648265 and exit the loop as soon as you encounter the first armstrong number. Use while loop"
   ]
  },
  {
   "cell_type": "code",
   "execution_count": 8,
   "metadata": {
    "colab": {
     "base_uri": "https://localhost:8080/",
     "height": 35
    },
    "colab_type": "code",
    "id": "Hp-U1_jXm3Xf",
    "outputId": "592718ba-e620-4e67-ab9d-19b44d2b425a"
   },
   "outputs": [
    {
     "name": "stdout",
     "output_type": "stream",
     "text": [
      "The First Armstrong Number in a given range :  1741725\n"
     ]
    }
   ],
   "source": [
    "for num in range (1042000,702648265):\n",
    "    temp = num\n",
    "    order = len(str(num)) \n",
    "    sum=0\n",
    "    while temp > 0:\n",
    "        digit = temp%10\n",
    "        sum += digit **order\n",
    "        temp //= 10\n",
    "    if num == sum:\n",
    "        print(\"The First Armstrong Number in a given range : \",sum)\n",
    "        break"
   ]
  }
 ],
 "metadata": {
  "colab": {
   "name": "Day 4 - Assignment.ipynb",
   "provenance": []
  },
  "kernelspec": {
   "display_name": "Python 3",
   "language": "python",
   "name": "python3"
  },
  "language_info": {
   "codemirror_mode": {
    "name": "ipython",
    "version": 3
   },
   "file_extension": ".py",
   "mimetype": "text/x-python",
   "name": "python",
   "nbconvert_exporter": "python",
   "pygments_lexer": "ipython3",
   "version": "3.8.3"
  }
 },
 "nbformat": 4,
 "nbformat_minor": 1
}
